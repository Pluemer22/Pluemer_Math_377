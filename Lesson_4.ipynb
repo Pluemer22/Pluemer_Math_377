{
 "cells": [
  {
   "cell_type": "markdown",
   "metadata": {},
   "source": [
    "# Practical Application: \n",
    "1)\tCreate 3 variables for name (first and last), age and hometown. Assign to these variables your own name, age and hometown. Now, recreate the following sentence using variable assignment and the ‘print’ command in Python: \n",
    "\n",
    "“I am <Your name here>. I am <age> years old. I’m from <hometown>”\n",
    "\n",
    "a)\tNow, use a string method to make your name lower case. Print the all lower case version of your name. \n",
    "b)\tNow use a string method to make your full name a proper noun. Print this version of your name.\n",
    "\n",
    "2)\tUsing the ‘replace’ method, replace all “I am” with “he is” or “she is” and all “I’m” with “he’s” or “she’s”. \n",
    "3)\tReturn a boolean response indicating whether the length of your original sentence (in #1) is greater than your age plus 40. \n"
   ]
  },
  {
   "cell_type": "code",
   "execution_count": 1,
   "metadata": {},
   "outputs": [
    {
     "name": "stdout",
     "output_type": "stream",
     "text": [
      "I am Pierce Pluemer. I am 22 years old. I'm from Phillips.\n"
     ]
    }
   ],
   "source": [
    "#1) Create 3 variables for name (first and last), age and hometown.\n",
    "# Assign to these variables your own name, age and hometown. \n",
    "#Now, recreate the following sentence using variable assignment and the ‘print’ command in Python:\n",
    "#“I am . I am years old. I’m from ”\n",
    "\n",
    "Name = \"Pierce Pluemer\"\n",
    "Age = \"22\"\n",
    "Hometown = \"Phillips\"\n",
    "\n",
    "Sent ='I am ' + Name + '.' +\" I am\" + \" \"+Age+ \" years old\"\".\"+\" I'm from \"+Hometown+\".\"\n",
    "print(Sent)"
   ]
  },
  {
   "cell_type": "code",
   "execution_count": 2,
   "metadata": {},
   "outputs": [
    {
     "name": "stdout",
     "output_type": "stream",
     "text": [
      "pierce pluemer\n"
     ]
    }
   ],
   "source": [
    "# a) Now, use a string method to make your name lower case. Print the all lower case version of your name.\n",
    "print(Name.lower())"
   ]
  },
  {
   "cell_type": "code",
   "execution_count": 3,
   "metadata": {},
   "outputs": [
    {
     "name": "stdout",
     "output_type": "stream",
     "text": [
      "Pierce Pluemer\n"
     ]
    }
   ],
   "source": [
    "#b) Now use a string method to make your full name a proper noun. Print this version of your name.\n",
    "print(Name.title())"
   ]
  },
  {
   "cell_type": "code",
   "execution_count": 4,
   "metadata": {},
   "outputs": [
    {
     "name": "stdout",
     "output_type": "stream",
     "text": [
      "he is Pierce Pluemer. he is 22 years old. he's from Phillips.\n"
     ]
    }
   ],
   "source": [
    "#2) Using the ‘replace’ method, replace all “I am” with “he is” or “she is” and all “I’m” with “he’s” or “she’s”.\n",
    "New1=Sent.replace('I am', 'he is')\n",
    "New2=New1.replace(\"I'm\",\"he's\")\n",
    "\n",
    "print(New2)\n"
   ]
  },
  {
   "cell_type": "code",
   "execution_count": 5,
   "metadata": {},
   "outputs": [
    {
     "data": {
      "text/plain": [
       "False"
      ]
     },
     "execution_count": 5,
     "metadata": {},
     "output_type": "execute_result"
    }
   ],
   "source": [
    " #3) Return a boolean response indicating whether the length of your original sentence (in #1) is \n",
    "    #greater than your age plus 40. \n",
    "    \n",
    "length_sent=len(Sent)\n",
    "age_40=62\n",
    "\n",
    "length_sent > age_40"
   ]
  }
 ],
 "metadata": {
  "kernelspec": {
   "display_name": "Python 3",
   "language": "python",
   "name": "python3"
  },
  "language_info": {
   "codemirror_mode": {
    "name": "ipython",
    "version": 3
   },
   "file_extension": ".py",
   "mimetype": "text/x-python",
   "name": "python",
   "nbconvert_exporter": "python",
   "pygments_lexer": "ipython3",
   "version": "3.6.5"
  }
 },
 "nbformat": 4,
 "nbformat_minor": 2
}
