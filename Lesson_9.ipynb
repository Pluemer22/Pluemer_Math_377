{
 "cells": [
  {
   "cell_type": "markdown",
   "metadata": {},
   "source": [
    "# Lesson 9\n",
    "## Title: Functions and ‘Apply’\n",
    "Objectives:\n",
    "\n",
    "1)\tUnderstand functions in Python; write your own functions\n",
    "\n",
    "2)\tUnderstand how to apply functions to arrays or table columns in Python\n",
    "\n",
    "Reading: AD Chapter 8.1-8.2\n",
    "Videos: edX Data8.1x; Lectures 9.1-9.6\n",
    "Augmented Material: Homework Feedback\n",
    "\n",
    "Practical App\n"
   ]
  },
  {
   "cell_type": "code",
   "execution_count": null,
   "metadata": {},
   "outputs": [],
   "source": [
    "# Run this code\n",
    "import datascience as ds\n",
    "import numpy as np\n",
    "\n",
    "# These lines set up graphing capabilities.\n",
    "import matplotlib\n",
    "%matplotlib inline\n",
    "import matplotlib.pyplot as plt\n",
    "plt.style.use('fivethirtyeight')\n",
    "import warnings\n",
    "warnings.simplefilter('ignore', FutureWarning)\n",
    "\n",
    "from ipywidgets import interact, interactive, fixed, interact_manual\n",
    "import ipywidgets as widgets\n"
   ]
  },
  {
   "cell_type": "markdown",
   "metadata": {},
   "source": [
    "## 1) The tips.csv dataset contains data on tips collected from a restaurant.\n",
    "\n",
    "### a. Find the mean tip broken down by sex. On one plot, build a histogram of tips for males overlaid with a histogram of tips for females. Discuss what you found.\n",
    "\n",
    "It seems that on average males recieved a higher tip based on this data. (3.09 compared to 2.83)"
   ]
  },
  {
   "cell_type": "code",
   "execution_count": null,
   "metadata": {},
   "outputs": [],
   "source": [
    "tips = ds.Table.read_table('data/tips.csv')\n",
    "tips"
   ]
  },
  {
   "cell_type": "code",
   "execution_count": null,
   "metadata": {},
   "outputs": [],
   "source": [
    "np.mean(tips.where('sex',ds.are.equal_to('Male')).column('tip'))"
   ]
  },
  {
   "cell_type": "code",
   "execution_count": null,
   "metadata": {},
   "outputs": [],
   "source": [
    "np.mean(tips.where('sex',ds.are.equal_to('Female')).column('tip'))"
   ]
  },
  {
   "cell_type": "code",
   "execution_count": null,
   "metadata": {},
   "outputs": [],
   "source": [
    "tips.select('tip','sex').hist('tip',group='sex')"
   ]
  },
  {
   "cell_type": "markdown",
   "metadata": {},
   "source": [
    "### b. Repeat part a, but broken down by time.\n",
    "\n",
    "It seems that dinner tips are higher than lunch on average.\n"
   ]
  },
  {
   "cell_type": "code",
   "execution_count": null,
   "metadata": {},
   "outputs": [],
   "source": [
    "np.mean(tips.where('time',ds.are.equal_to('Dinner')).column('tip'))"
   ]
  },
  {
   "cell_type": "code",
   "execution_count": null,
   "metadata": {},
   "outputs": [],
   "source": [
    "np.mean(tips.where('time',ds.are.equal_to('Lunch')).column('tip'))"
   ]
  },
  {
   "cell_type": "code",
   "execution_count": null,
   "metadata": {},
   "outputs": [],
   "source": [
    "tips.select('tip','time').hist('tip',group='time')"
   ]
  },
  {
   "cell_type": "markdown",
   "metadata": {},
   "source": [
    "## 2)\tCreate a function called weekday_to_num. This function inputs a string denoting day of the week (Mon, Tues, Wed, Thur, Fri, Sat, Sun), and returns a number (Mon = 1, Tues = 2, … Sun = 7). "
   ]
  },
  {
   "cell_type": "code",
   "execution_count": null,
   "metadata": {},
   "outputs": [],
   "source": [
    "def weekday_to_num(Day):\n",
    "    \"Return an integer based on the day of the week given\"\n",
    "\n",
    "    if Day == \"Mon\":\n",
    "        return 1\n",
    "    elif Day == \"Tues\":\n",
    "        return 2\n",
    "    elif Day == \"Wed\":\n",
    "        return 3\n",
    "    elif Day == \"Thur\":\n",
    "        return 4\n",
    "    elif Day == \"Fri\":\n",
    "        return 5    \n",
    "    elif Day == \"Sat\":\n",
    "        return 6 \n",
    "    elif Day == \"Sun\":\n",
    "        return 7    \n",
    "    else:\n",
    "        return \"Enter Valid Data!!!!!!!!!\""
   ]
  },
  {
   "cell_type": "markdown",
   "metadata": {},
   "source": [
    "## 3)\tApply this function to the day column of tips and include the result as a new column in tips, called weekday_num. "
   ]
  },
  {
   "cell_type": "code",
   "execution_count": null,
   "metadata": {},
   "outputs": [],
   "source": [
    "tips = tips.with_columns('weekday_num',tips.apply(weekday_to_num,'day'))\n",
    "tips"
   ]
  },
  {
   "cell_type": "markdown",
   "metadata": {},
   "source": [
    "## 4)\tCreate a function called est_tip. The goal of this function is to predict tip amount based on the value of the bill (total_bill). To do this, we will look at “nearby” values (i.e. tip, where the value of total_bill is near the value of interest.) For example, if we want to predict the tip for total bill value of 20, we will simply look at all total bills near 20 and average the tip amount. The input of est_tip should be the total bill amount and the window, or the difference in total bill we would consider “nearby”. For example, for a window of 1, we will look at all bills totaling 19 thru 21. The output of this function will be the predicted tip amount. "
   ]
  },
  {
   "cell_type": "code",
   "execution_count": null,
   "metadata": {},
   "outputs": [],
   "source": [
    "def est_tip(total_bill):\n",
    "    \"\"\" \n",
    "    The goal of this function is to predict tip amount based on the value of the bill (total_bill). To do this,\n",
    "    we will look at “nearby” values \n",
    "    (i.e. tip, where the value of total_bill is near the value of interest.)\n",
    "    \"\"\"\n",
    "    \n",
    "    estimate = tips.where('total_bill', ds.are.between(total_bill-1,total_bill+1)).column('tip')\n",
    "    \n",
    "    return np.mean(estimate)\n",
    "    "
   ]
  },
  {
   "cell_type": "code",
   "execution_count": null,
   "metadata": {},
   "outputs": [],
   "source": [
    "#test\n",
    "tips.where('total_bill', ds.are.between(4,6)).column('tip')"
   ]
  },
  {
   "cell_type": "code",
   "execution_count": null,
   "metadata": {},
   "outputs": [],
   "source": [
    "#test\n",
    "est_tip(5)"
   ]
  },
  {
   "cell_type": "markdown",
   "metadata": {},
   "source": [
    "## 5)\tApply this function to the total_bill column of tips and include the result as a new column in tips. Build a scatterplot showing predicted tip amount overlaid with actual tip amount"
   ]
  },
  {
   "cell_type": "code",
   "execution_count": null,
   "metadata": {},
   "outputs": [],
   "source": [
    "tips = tips = tips.with_columns('estimated tip',tips.apply(est_tip,'total_bill'))\n",
    "tips"
   ]
  },
  {
   "cell_type": "code",
   "execution_count": null,
   "metadata": {},
   "outputs": [],
   "source": [
    "tips.select('total_bill','tip','estimated tip').scatter('total_bill')"
   ]
  }
 ],
 "metadata": {
  "kernelspec": {
   "display_name": "Python 3",
   "language": "python",
   "name": "python3"
  },
  "language_info": {
   "codemirror_mode": {
    "name": "ipython",
    "version": 3
   },
   "file_extension": ".py",
   "mimetype": "text/x-python",
   "name": "python",
   "nbconvert_exporter": "python",
   "pygments_lexer": "ipython3",
   "version": "3.6.5"
  }
 },
 "nbformat": 4,
 "nbformat_minor": 2
}
