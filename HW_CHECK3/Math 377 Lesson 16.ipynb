{
 "cells": [
  {
   "cell_type": "code",
   "execution_count": 17,
   "metadata": {},
   "outputs": [],
   "source": [
    "from datascience import *\n",
    "import numpy as np\n",
    "from math import *\n",
    "from scipy import integrate"
   ]
  },
  {
   "cell_type": "markdown",
   "metadata": {},
   "source": [
    "## Joint Distributions"
   ]
  },
  {
   "cell_type": "markdown",
   "metadata": {},
   "source": [
    "Recall from Lessons 13 & 14: let $X$ be a random variable. $X$ has a distribution that is described by a probability mass function (pmf) or probability density function (pdf). \n",
    "\n",
    "We can consider multiple random variables simultaneously using joint distributions. \n",
    "\n",
    "NOTE: When answering the questions below, you are not required to use Python. If you would like to answer in Markdown, feel free to change the type of the cell, or to use both types of cells. "
   ]
  },
  {
   "cell_type": "markdown",
   "metadata": {},
   "source": [
    "#### Example 1: Discrete Joint Distribution"
   ]
  },
  {
   "cell_type": "markdown",
   "metadata": {},
   "source": [
    "Let $X$ and $Y$ be discrete random variables that can each only take the values 1, 2 or 3, and do so according to the following distribution:"
   ]
  },
  {
   "cell_type": "markdown",
   "metadata": {},
   "source": [
    "\n",
    " |  | $X$  | 1 | 2 | 3 |\n",
    " |-- | ------ | ------ |\n",
    " |  | 1 | 0.17 | 0.15 | 0.08 |\n",
    " | $Y$ | 2 | 0.00 | 0.10 | 0.10 |\n",
    " |  | 3 | 0.08 | 0.20 | 0.12 |\n",
    " \n"
   ]
  },
  {
   "cell_type": "markdown",
   "metadata": {},
   "source": [
    "This is an example of a joint probability mass function (joint pmf), and is denoted as $f_{X,Y}(x,y)$. \n",
    "\n",
    "For example, the probability that $X$ takes the value 1 AND $Y$ takes the value 3, or $P(X=1,Y=3)$ is equal to 0.08. "
   ]
  },
  {
   "cell_type": "markdown",
   "metadata": {},
   "source": [
    "**_1.1_** Find $P(X = 2,Y=3)$. \n",
    "\n",
    "**_1.2_** Find $E(X+Y)$. "
   ]
  },
  {
   "cell_type": "code",
   "execution_count": 18,
   "metadata": {},
   "outputs": [
    {
     "data": {
      "text/plain": [
       "0.2"
      ]
     },
     "execution_count": 18,
     "metadata": {},
     "output_type": "execute_result"
    }
   ],
   "source": [
    "# 1.1)\n",
    "\n",
    "0.2"
   ]
  },
  {
   "cell_type": "code",
   "execution_count": 19,
   "metadata": {},
   "outputs": [
    {
     "data": {
      "text/plain": [
       "4.05"
      ]
     },
     "execution_count": 19,
     "metadata": {},
     "output_type": "execute_result"
    }
   ],
   "source": [
    "# 1.2)\n",
    "\n",
    "2*(0.17)+3*0.15+4*(0.1+0.08+0.08)+5*(0.2+0.1)+6*(0.12)"
   ]
  },
  {
   "cell_type": "markdown",
   "metadata": {},
   "source": [
    "### Marginal Probability"
   ]
  },
  {
   "cell_type": "markdown",
   "metadata": {},
   "source": [
    "When given a joint pmf like this, we may want to know the distribution of $X$ or $Y$ individually. Specifically, we might want to know $P(X=1)$ or $f_Y(y)$. \n",
    "\n",
    "Marginal probability can be found by summing across the remaining variable. Specifically,\n",
    "\n",
    "$$\n",
    "f_X(x)=\\sum_y f_{X,Y}(x,y)\n",
    "$$\n",
    "and \n",
    "$$\n",
    "f_Y(y)=\\sum_x f_{X,Y}(x,y)\n",
    "$$\n"
   ]
  },
  {
   "cell_type": "markdown",
   "metadata": {},
   "source": [
    "**_1.3_** Find $P(X=2)$. \n",
    "\n",
    "**_1.4_** Find $f_Y(y)$ (the marginal pmf of $Y$). \n",
    "\n",
    "**_1.5_** Find $E(Y)$ and $V(Y)$. "
   ]
  },
  {
   "cell_type": "code",
   "execution_count": 20,
   "metadata": {},
   "outputs": [
    {
     "data": {
      "text/plain": [
       "0.45"
      ]
     },
     "execution_count": 20,
     "metadata": {},
     "output_type": "execute_result"
    }
   ],
   "source": [
    "# 1.3)\n",
    "\n",
    "0.15+0.1+0.2"
   ]
  },
  {
   "cell_type": "markdown",
   "metadata": {
    "scrolled": true
   },
   "source": [
    "1.4)\n",
    "\n",
    "Y=1 (0.17 + 0.15 + 0.08) = 0.40\n",
    "\n",
    "Y=2 (0.1 + 0.1) = 0.20\n",
    "\n",
    "Y=3 (0.08 + 0.20 +0.12) = 0.40"
   ]
  },
  {
   "cell_type": "code",
   "execution_count": 21,
   "metadata": {},
   "outputs": [
    {
     "data": {
      "text/plain": [
       "2.0"
      ]
     },
     "execution_count": 21,
     "metadata": {},
     "output_type": "execute_result"
    }
   ],
   "source": [
    "# 1.5) E(Y)\n",
    "\n",
    "E = 1*(0.40) + 2*0.20 + 3*0.40\n",
    "E"
   ]
  },
  {
   "cell_type": "code",
   "execution_count": 6,
   "metadata": {},
   "outputs": [
    {
     "data": {
      "text/plain": [
       "0.8"
      ]
     },
     "execution_count": 6,
     "metadata": {},
     "output_type": "execute_result"
    }
   ],
   "source": [
    "# 1.5) V(Y) \n",
    "\n",
    "(1-E)**2 *0.4 + (2-E)**2 *0.2 + (3-E)**2 *0.4"
   ]
  },
  {
   "cell_type": "markdown",
   "metadata": {},
   "source": [
    "### Conditional Probability\n",
    "\n",
    "We may be interested in the probability $X$ takes a specific value conditioned on the value of $Y$. Recall that conditional probability is given by $P(A|B)=\\frac{P(A,B)}{P(B)}$. \n",
    "\n",
    "So, essentially, conditional probability can be found by dividing the joint probability by the appropriate marginal probability. "
   ]
  },
  {
   "cell_type": "markdown",
   "metadata": {},
   "source": [
    "**_1.6_** Find $P(Y=1|X=3)$. \n",
    "\n",
    "**_1.7_** Find $f_{X|Y=2}(x)$, the conditional pmf of $X$, given $Y=2$. \n",
    "\n",
    "**_1.8_** Find $E(X|Y=2)$ and $V(X|Y=2)$. "
   ]
  },
  {
   "cell_type": "code",
   "execution_count": 22,
   "metadata": {
    "scrolled": true
   },
   "outputs": [
    {
     "data": {
      "text/plain": [
       "0.26666666666666666"
      ]
     },
     "execution_count": 22,
     "metadata": {},
     "output_type": "execute_result"
    }
   ],
   "source": [
    "# 1.6)\n",
    "\n",
    "AB = 0.08\n",
    "B = 0.3\n",
    "\n",
    "AB/B"
   ]
  },
  {
   "cell_type": "markdown",
   "metadata": {},
   "source": [
    " 1.7)\n",
    "\n",
    "x = 1, 0\n",
    "\n",
    "x = 2, 0.5\n",
    "\n",
    "x = 3, 0.5"
   ]
  },
  {
   "cell_type": "code",
   "execution_count": 23,
   "metadata": {},
   "outputs": [
    {
     "data": {
      "text/plain": [
       "2.5"
      ]
     },
     "execution_count": 23,
     "metadata": {},
     "output_type": "execute_result"
    }
   ],
   "source": [
    "# 1.8) E(X|Y = 2)\n",
    "\n",
    "E = 1*0+2*0.5+3*0.5\n",
    "E"
   ]
  },
  {
   "cell_type": "code",
   "execution_count": 9,
   "metadata": {},
   "outputs": [
    {
     "data": {
      "text/plain": [
       "0.25"
      ]
     },
     "execution_count": 9,
     "metadata": {},
     "output_type": "execute_result"
    }
   ],
   "source": [
    "# 1.8) V(X|Y = 2)     (x−μ)**2*f(x)\n",
    "\n",
    "(1-E)**2*0 + (2-E)**2 *0.5 +(3-E)**2 *0.5"
   ]
  },
  {
   "cell_type": "markdown",
   "metadata": {},
   "source": [
    "**_1.9_** Are $X$ and $Y$ independent? Why or why not? "
   ]
  },
  {
   "cell_type": "markdown",
   "metadata": {},
   "source": [
    "They are not independent. One can tell by looking at the chart of probabilities. \n",
    "At Y = 2 and X = 1 the probabilty is 0 and this indicates non-independence. "
   ]
  },
  {
   "cell_type": "markdown",
   "metadata": {},
   "source": [
    "### Covariance and Correlation\n",
    "\n",
    "Expected value and variance help us characterize $X$ and $Y$ marginally and conditionally, but we may also be interested in measuring the relationship between $X$ and $Y$. For this, we use *covariance*. \n",
    "\n",
    "$$\n",
    "Cov(X,Y)=E[(X-E(X))(Y-E(Y))] = E(XY)-E(X)E(Y)\n",
    "$$\n",
    "\n",
    "Note that if $X$ and $Y$ are independent, $Cov(X,Y) =0$. The converse is NOT necessarily true. \n",
    "\n",
    "Covariance is dependent on the scales of $X$ and $Y$, so if the two variables are of vastly different scale, we'll want to use covariance's unitless counterpart, correlation, denoted by $\\rho$. \n",
    "\n",
    "$$\n",
    "\\rho = \\frac{Cov(X,Y)}{\\sqrt{Var(X)Var(Y)}}\n",
    "$$\n",
    "\n",
    "$\\rho$ is bounded by the interval $[-1,1]$. When $\\rho=1$, $X$ and $Y$ are perfectly positively correlated. Similarly, when $\\rho=-1$, $X$ and $Y$ are perfectly negatively correlated. "
   ]
  },
  {
   "cell_type": "markdown",
   "metadata": {},
   "source": [
    "**_1.10_** Find $Cov(X,Y)$\n",
    "\n",
    "**_1.11_** Find $Corr(X,Y)$, or $\\rho$. "
   ]
  },
  {
   "cell_type": "code",
   "execution_count": 24,
   "metadata": {},
   "outputs": [
    {
     "data": {
      "text/plain": [
       "0.13000000000000078"
      ]
     },
     "execution_count": 24,
     "metadata": {},
     "output_type": "execute_result"
    }
   ],
   "source": [
    "# 1.10)\n",
    "\n",
    "EXY = 1* 0.17 + 2 * 0.15 + 3 * 0.16 + 4 * 0.10 + 6 *  0.3 + 9 * 0.12\n",
    "EX = 1 * 0.25 + 2 * 0.45 + 3 * 0.3\n",
    "EY = 1 * 0.4 + 2 * 0.2 + 3 * 0.4\n",
    "\n",
    "Cov = EXY - EX * EY\n",
    "Cov"
   ]
  },
  {
   "cell_type": "code",
   "execution_count": 11,
   "metadata": {},
   "outputs": [
    {
     "data": {
      "text/plain": [
       "0.1964293126950385"
      ]
     },
     "execution_count": 11,
     "metadata": {},
     "output_type": "execute_result"
    }
   ],
   "source": [
    "# 1.11) Var = (x−μ**2)*f(x)\n",
    "\n",
    "VarX = (1-EX)**2 * 0.25 + (2-EX)**2 * 0.45 + (3-EX)**2 * 0.3\n",
    "VarY = (1-EY)**2 * 0.4 + (2-EY)**2 * 0.2 + (3-EY)**2 * 0.4\n",
    "\n",
    "Cov/(VarX * VarY)**0.5"
   ]
  },
  {
   "cell_type": "markdown",
   "metadata": {},
   "source": [
    "In problem 1.2, we found $E(X+Y)$. In order to find $Var(X+Y)$, we need to know how $X$ and $Y$ are correlated: \n",
    "\n",
    "$$\n",
    "Var(X+Y)= Var(X)+Var(Y)+2*Cov(X,Y)\n",
    "$$"
   ]
  },
  {
   "cell_type": "markdown",
   "metadata": {},
   "source": [
    "**_1.12_** Find $Var(X+Y)$. "
   ]
  },
  {
   "cell_type": "code",
   "execution_count": 25,
   "metadata": {},
   "outputs": [
    {
     "data": {
      "text/plain": [
       "1.6075000000000017"
      ]
     },
     "execution_count": 25,
     "metadata": {},
     "output_type": "execute_result"
    }
   ],
   "source": [
    "# 1.12)\n",
    "\n",
    "VarX + VarY +2*Cov"
   ]
  },
  {
   "cell_type": "markdown",
   "metadata": {},
   "source": [
    "#### Example 2: Continuous Joint Distribution\n",
    "\n",
    "All of the concepts above apply to continuous random variables. Consider continuous random variables $X$ and $Y$ with the following joint pdf:\n",
    "\n",
    "$$\n",
    "f_{X,Y}(x,y)=k(x+y)\n",
    "$$\n",
    "\n",
    "where both $x$ and $y$ are bounded by the interval $[0,1]$. "
   ]
  },
  {
   "cell_type": "markdown",
   "metadata": {},
   "source": [
    "**_2.1_** Find the value of $k$ that makes $f$ a valid joint pdf. "
   ]
  },
  {
   "cell_type": "markdown",
   "metadata": {},
   "source": [
    "2.1)\n",
    "\n",
    "k = 1"
   ]
  },
  {
   "cell_type": "markdown",
   "metadata": {},
   "source": [
    "**_2.2_** Find $P(X<0.5,Y<0.5)$"
   ]
  },
  {
   "cell_type": "markdown",
   "metadata": {},
   "source": [
    "2.2)\n",
    "Take double integral \n",
    "\n",
    "1/8"
   ]
  },
  {
   "cell_type": "markdown",
   "metadata": {},
   "source": [
    "**_2.3_** Find $f_X(x)$ and $f_Y(y)$, the marginal pdfs of $X$ and $Y$. \n",
    "\n",
    "**_2.4_** Find $E(X)$ and $E(Y)$. "
   ]
  },
  {
   "cell_type": "markdown",
   "metadata": {},
   "source": [
    "2.3) Take single integral to get rid of undisired variable. \n",
    "\n",
    "fx(x) = 0.5 + x\n",
    "\n",
    "fy(y) = 0.5 + y"
   ]
  },
  {
   "cell_type": "markdown",
   "metadata": {},
   "source": [
    "2.4) Take integral 0 to 1 of x *(0.5 + x) with respect to x, same for Y but vice versa\n",
    "\n",
    "E(X) = 7/12\n",
    "\n",
    "E(Y) = 7/12"
   ]
  },
  {
   "cell_type": "markdown",
   "metadata": {},
   "source": [
    "**_2.5_** Find $P(X>0.5\\vert Y\\leq 0.5)$. "
   ]
  },
  {
   "cell_type": "markdown",
   "metadata": {},
   "source": [
    "2.5)  double integral / single integral \n",
    "\n",
    "0.000456"
   ]
  },
  {
   "cell_type": "markdown",
   "metadata": {},
   "source": [
    "**_2.6_** Find the conditional distributions of $X|Y$ and $Y|X$. Recall that conditional distributions can be found by dividing the joint pdf by the relevant marginal pdf. \n",
    "\n",
    "**_2.7_** Find $E(X|Y)$ and $E(Y|X)$."
   ]
  },
  {
   "cell_type": "markdown",
   "metadata": {},
   "source": [
    "2.6)\n",
    "\n",
    "X|Y = (x+y)/(0.5+y)\n",
    "\n",
    "Y|X = (x+y)/(0.5+x)"
   ]
  },
  {
   "cell_type": "markdown",
   "metadata": {},
   "source": [
    "2.7)\n",
    "\n",
    "integral of (x * X|Y)\n",
    "\n",
    "integral of (y*  Y|X)"
   ]
  },
  {
   "cell_type": "markdown",
   "metadata": {},
   "source": [
    "**_2.8_** Are $X$ and $Y$ independent? "
   ]
  },
  {
   "cell_type": "markdown",
   "metadata": {},
   "source": [
    "2.8)\n",
    "\n",
    "With the informantion present, X and Y could be indepedent "
   ]
  },
  {
   "cell_type": "markdown",
   "metadata": {},
   "source": [
    "**_2.9_** What is $Cov(X,Y)$? "
   ]
  },
  {
   "cell_type": "markdown",
   "metadata": {},
   "source": [
    "2.9)\n",
    "\n",
    "Cov = EXY - EX * EY\n",
    "\n",
    "integral of (x* X|Y)  -  (49/12)"
   ]
  }
 ],
 "metadata": {
  "kernelspec": {
   "display_name": "Python 3",
   "language": "python",
   "name": "python3"
  },
  "language_info": {
   "codemirror_mode": {
    "name": "ipython",
    "version": 3
   },
   "file_extension": ".py",
   "mimetype": "text/x-python",
   "name": "python",
   "nbconvert_exporter": "python",
   "pygments_lexer": "ipython3",
   "version": "3.6.5"
  }
 },
 "nbformat": 4,
 "nbformat_minor": 2
}
