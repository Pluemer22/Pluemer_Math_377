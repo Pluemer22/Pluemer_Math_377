{
 "cells": [
  {
   "cell_type": "markdown",
   "metadata": {},
   "source": [
    "Practical Application:\n",
    "1)\tCreate an array containing 4 string elements: your first name, your last name, your birth state and your favorite color. \n",
    "a.\tUse a numpy function to make all elements uppercase. \n",
    "b.\tUse a numpy function to count the number of times the letter “a” appears in each element of your array.\n",
    "c.\tOptional: Use a numpy function to find the length of each element in the array. You may need to Google this. \n",
    "2)\tCreate an array containing EVERY OTHER odd number starting with 1 and ending with (and including) 45. \n",
    "a.\tUse numpy to find the sum and the product of the elements of this array.\n",
    "b.\tUse numpy to take the natural log of each element.\n",
    "c.\tOptional: The numpy function np.diff finds the difference between adjacent elements of an array. Find the SUM of adjacent elements of this array. \n"
   ]
  },
  {
   "cell_type": "code",
   "execution_count": 1,
   "metadata": {},
   "outputs": [],
   "source": [
    "import numpy as np\n",
    "from datascience import *\n",
    "%matplotlib inline\n",
    "import matplotlib.pyplot as plots\n",
    "plots.style.use('fivethirtyeight')\n",
    "import warnings\n",
    "warnings.simplefilter(action=\"ignore\", category=FutureWarning)"
   ]
  },
  {
   "cell_type": "code",
   "execution_count": 2,
   "metadata": {},
   "outputs": [
    {
     "data": {
      "text/plain": [
       "array(['Pierce', 'Pluemer', '7 Jan 1996', 'Blue'], dtype='<U10')"
      ]
     },
     "execution_count": 2,
     "metadata": {},
     "output_type": "execute_result"
    }
   ],
   "source": [
    "#1) Create an array containing 4 string elements: your first name, your last name, your birth state and your favorite color.\n",
    "four_strings = make_array('Pierce','Pluemer','7 Jan 1996','Blue')\n",
    "four_strings"
   ]
  },
  {
   "cell_type": "code",
   "execution_count": 3,
   "metadata": {},
   "outputs": [
    {
     "data": {
      "text/plain": [
       "array(['PIERCE', 'PLUEMER', '7 JAN 1996', 'BLUE'], dtype='<U10')"
      ]
     },
     "execution_count": 3,
     "metadata": {},
     "output_type": "execute_result"
    }
   ],
   "source": [
    "#a. Use a numpy function to make all elements uppercase.\n",
    "np.char.upper(four_strings)"
   ]
  },
  {
   "cell_type": "code",
   "execution_count": 4,
   "metadata": {},
   "outputs": [
    {
     "data": {
      "text/plain": [
       "array([0, 0, 1, 0])"
      ]
     },
     "execution_count": 4,
     "metadata": {},
     "output_type": "execute_result"
    }
   ],
   "source": [
    "#b. Use a numpy function to count the number of times the letter “a” appears in each element of your array.\n",
    "np.char.count(four_strings,'a')"
   ]
  },
  {
   "cell_type": "code",
   "execution_count": 5,
   "metadata": {},
   "outputs": [
    {
     "name": "stdout",
     "output_type": "stream",
     "text": [
      "[ 6  7 10  4]\n"
     ]
    }
   ],
   "source": [
    "#c. Optional: Use a numpy function to find the length of each element in the array. You may need to Google this.\n",
    "mylen = np.vectorize(len)\n",
    "print (mylen(four_strings))"
   ]
  },
  {
   "cell_type": "code",
   "execution_count": 6,
   "metadata": {},
   "outputs": [
    {
     "data": {
      "text/plain": [
       "array([ 1,  5,  9, 13, 17, 21, 25, 29, 33, 37, 41, 45])"
      ]
     },
     "execution_count": 6,
     "metadata": {},
     "output_type": "execute_result"
    }
   ],
   "source": [
    "#2) Create an array containing EVERY OTHER odd number starting with 1 and ending with (and including) 45.\n",
    "everyother_odd_number=np.arange(1,47,4)\n",
    "everyother_odd_number\n"
   ]
  },
  {
   "cell_type": "code",
   "execution_count": 7,
   "metadata": {},
   "outputs": [
    {
     "data": {
      "text/plain": [
       "276"
      ]
     },
     "execution_count": 7,
     "metadata": {},
     "output_type": "execute_result"
    }
   ],
   "source": [
    "# a. Use numpy to find the sum and the product of the elements of this array.\n",
    "np.sum(everyother_odd_number)"
   ]
  },
  {
   "cell_type": "code",
   "execution_count": 8,
   "metadata": {},
   "outputs": [
    {
     "data": {
      "text/plain": [
       "616159193"
      ]
     },
     "execution_count": 8,
     "metadata": {},
     "output_type": "execute_result"
    }
   ],
   "source": [
    "np.prod(everyother_odd_number)"
   ]
  },
  {
   "cell_type": "code",
   "execution_count": 9,
   "metadata": {},
   "outputs": [
    {
     "data": {
      "text/plain": [
       "array([0.        , 1.60943791, 2.19722458, 2.56494936, 2.83321334,\n",
       "       3.04452244, 3.21887582, 3.36729583, 3.49650756, 3.61091791,\n",
       "       3.71357207, 3.80666249])"
      ]
     },
     "execution_count": 9,
     "metadata": {},
     "output_type": "execute_result"
    }
   ],
   "source": [
    "#b. Use numpy to take the natural log of each element.\n",
    "np.log(everyother_odd_number)"
   ]
  },
  {
   "cell_type": "code",
   "execution_count": 10,
   "metadata": {},
   "outputs": [
    {
     "data": {
      "text/plain": [
       "array([ 5,  9, 13, 17, 21, 25, 29, 33, 37, 41, 45])"
      ]
     },
     "execution_count": 10,
     "metadata": {},
     "output_type": "execute_result"
    }
   ],
   "source": [
    "#c. Optional: The numpy function np.diff finds the difference between adjacent elements of an array. \n",
    "#Find the SUM of adjacent elements of this array.\n",
    "\n",
    "numb1=np.delete(everyother_odd_number,0)\n",
    "numb1"
   ]
  },
  {
   "cell_type": "code",
   "execution_count": 11,
   "metadata": {},
   "outputs": [
    {
     "data": {
      "text/plain": [
       "array([ 1,  5,  9, 13, 17, 21, 25, 29, 33, 37, 41])"
      ]
     },
     "execution_count": 11,
     "metadata": {},
     "output_type": "execute_result"
    }
   ],
   "source": [
    "numb2=np.delete(everyother_odd_number,11)\n",
    "numb2"
   ]
  },
  {
   "cell_type": "code",
   "execution_count": 12,
   "metadata": {},
   "outputs": [
    {
     "data": {
      "text/plain": [
       "array([ 6, 14, 22, 30, 38, 46, 54, 62, 70, 78, 86])"
      ]
     },
     "execution_count": 12,
     "metadata": {},
     "output_type": "execute_result"
    }
   ],
   "source": [
    "numb1+numb2"
   ]
  }
 ],
 "metadata": {
  "kernelspec": {
   "display_name": "Python 3",
   "language": "python",
   "name": "python3"
  },
  "language_info": {
   "codemirror_mode": {
    "name": "ipython",
    "version": 3
   },
   "file_extension": ".py",
   "mimetype": "text/x-python",
   "name": "python",
   "nbconvert_exporter": "python",
   "pygments_lexer": "ipython3",
   "version": "3.6.5"
  }
 },
 "nbformat": 4,
 "nbformat_minor": 2
}
