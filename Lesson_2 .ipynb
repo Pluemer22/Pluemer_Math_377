{
 "cells": [
  {
   "cell_type": "markdown",
   "metadata": {},
   "source": [
    "# Objectives\n",
    "\n",
    "#Be able to create your own jupitor notebook\n",
    "#Define the terms observational study, observation, and treatment \n",
    "#Understand the difference between association and causality\n",
    "#Understand confounding and how it is mitigated by randomization\n"
   ]
  },
  {
   "cell_type": "raw",
   "metadata": {},
   "source": [
    "1. Define data science. How do you think you will use data science in your career(either as a student or in the Air Force)?\n",
    "    \"Data Science is about drawing useful conclusions from large and diverse data sets through exploration, prediction, and inference.\" -book. Data science is the study of information. Data science uses various tools and methoids to manipulate data to find patterns and make inferences and predictions. I think I will use data science to work on various projects perhaps studying data from different weapon systems to find which is best for different situations.\n",
    "\n",
    "2. What are the three focus areas in this course?\n",
    "    Exploration, Inference, Predition\n",
    "\n",
    "3. install datascience package\n",
    "    done\n",
    "\n",
    "4. Do at least 3 basic computations\n",
    "    done\n",
    "    \n",
    "5. In another text box, use python code to print your name followed by a thunmbs up sign \n",
    "\n",
    "6. I read once that violent crime is significantly associated with ice cream sales. That is, as ice cream sales increase so does violent crime. Do high ice cream sales cause an increase in violent crime? Explain this relationship.\n",
    "    While  ice cream sales may be associated with violent crime there must be more evidence that leads to actual causality. Every aspect, other that ice cream sales and violence, must be the same to determine if increases in ice cream sales cause an increase in crime. This is very hard to do, which is likely why people can not say with certainty that ice cream sales cause violence.\n",
    "\n",
    "7. What is the difference between an observational study and an experiment?\n",
    "    An observational study simply observes subjects and explores cause and effect relationships. It is more subject to confounding factors. An experient is more controlled and is usually in a lab setting or controlled environment. A good experiemnt uses randomization to mitigate confounding errors. \n",
    "    \n",
    "    \n"
   ]
  },
  {
   "cell_type": "markdown",
   "metadata": {},
   "source": [
    "4. Do at least 3 basic computations"
   ]
  },
  {
   "cell_type": "code",
   "execution_count": 1,
   "metadata": {},
   "outputs": [
    {
     "data": {
      "text/plain": [
       "8"
      ]
     },
     "execution_count": 1,
     "metadata": {},
     "output_type": "execute_result"
    }
   ],
   "source": [
    "4+4"
   ]
  },
  {
   "cell_type": "code",
   "execution_count": 2,
   "metadata": {},
   "outputs": [
    {
     "data": {
      "text/plain": [
       "1.0"
      ]
     },
     "execution_count": 2,
     "metadata": {},
     "output_type": "execute_result"
    }
   ],
   "source": [
    "4/4"
   ]
  },
  {
   "cell_type": "code",
   "execution_count": 1,
   "metadata": {},
   "outputs": [
    {
     "data": {
      "text/plain": [
       "0"
      ]
     },
     "execution_count": 1,
     "metadata": {},
     "output_type": "execute_result"
    }
   ],
   "source": [
    "4-4"
   ]
  },
  {
   "cell_type": "markdown",
   "metadata": {},
   "source": [
    "5. In another text box, use python code to print your name followed by a thunmbs up sign"
   ]
  },
  {
   "cell_type": "code",
   "execution_count": 16,
   "metadata": {},
   "outputs": [
    {
     "name": "stdout",
     "output_type": "stream",
     "text": [
      "Pierce Pluemer  👍\n"
     ]
    }
   ],
   "source": [
    "print (\"Pierce Pluemer  \\N{thumbs up sign}\")"
   ]
  }
 ],
 "metadata": {
  "kernelspec": {
   "display_name": "Python 3",
   "language": "python",
   "name": "python3"
  },
  "language_info": {
   "codemirror_mode": {
    "name": "ipython",
    "version": 3
   },
   "file_extension": ".py",
   "mimetype": "text/x-python",
   "name": "python",
   "nbconvert_exporter": "python",
   "pygments_lexer": "ipython3",
   "version": "3.6.5"
  }
 },
 "nbformat": 4,
 "nbformat_minor": 2
}
